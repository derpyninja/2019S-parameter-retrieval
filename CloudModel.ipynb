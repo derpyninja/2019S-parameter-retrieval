{
 "cells": [
  {
   "cell_type": "markdown",
   "metadata": {},
   "source": [
    "## Simple parametric modelling of radar backscatter from vegetation & soil\n",
    "- **Author**: Felix Zaussinger\n",
    "- **Date**: 01.04.2019 (with updates from 21.11.2020)\n",
    "- **Acknowledgements**: based on invaluable course material created by Wolfgang Wagner  & Raphael Quast (TU Wien), augmented with helpful comments given by Raphael.\n",
    "\n",
    "### Definition of the backscattering coefficient\n",
    "\n",
    "The scattering coefficient $\\sigma_0$ is defined as\n",
    "\n",
    "$$\\sigma_0 = \\frac{d\\sigma}{dA}$$\n",
    "\n",
    "where $d\\sigma$ is the differential scattering cross section and $dA$ the differential unit area. In the microwave remote sensing literature, synonyms for $\\sigma_0$ are __sigma nought__ and __normalised radar cross section__. Furthermore, in the case of a monostatic radar, $\\sigma_0$ is called the __backscattering coefficient__.\n",
    "\n",
    "Important assumptions for the specification of $\\sigma_0$ include: \n",
    "\n",
    "1. The observed area consists of many individual point scatters with random locations and amplitudes.\n",
    "2. No single scatterer's amplitude dominates the superposition of individual signals.\n",
    "\n",
    "### Modeling the interaction of radar waves with planet earth's surface\n",
    "\n",
    "On an abstract level, we need to consider the following scattering components:\n",
    "\n",
    "1. $\\sigma^{0}_{v}$ ... Volume scattering from vegetation canopies\n",
    "2. $\\sigma^{0}_{s}$ ... Surface scattering from the underlying soil surface\n",
    "3. $\\sigma^{0}_{sv}$ ... Volume-surface scattering interactions\n",
    "\n",
    "Canopy-level backscatter can then be expressed as a linear combination of scattering components\n",
    "\n",
    "$$\\sigma^{0}_{can} = \\sigma^{0}_{v} + \\sigma^{0}_{s} + \\sigma^{0}_{sv}$$\n",
    "\n",
    "One approach to model these interactions is the __Cloud Model__ (Attema, Ulaby 1978). The model consists of three layers:\n",
    "\n",
    "**Air**\n",
    "- Downwelling radiation is not attenuated until reaching the air-vegetation boundary.\n",
    "\n",
    "\n",
    "**Vegetation**\n",
    "- Individual scatteres are uniformly distibuted throughout a homogenous volume such as air. \n",
    "- The vegetation layer can be thought of as a cloud which droplets are held in place by vegetative matter. \n",
    "- The incoming radiation is exponentially attenuated as a function of extinction coefficient $k_e$ and distance $z$.\n",
    "\n",
    "\n",
    "**Soil**\n",
    "- The downwelling radiation which has penetrated the vegetation layer is partly reflected backwards as a function of the Fresnel coefficient $r_I$.\n",
    "- $\\sigma^{0}_{s}$ is governed by the reflection properties of the soil and the loss in the vegetation layer."
   ]
  },
  {
   "cell_type": "markdown",
   "metadata": {},
   "source": [
    "**Important**\n",
    "\n",
    "When using jupyter lab, call %matplotlib widget prior to importing pyplot to enable \"interactiveness\"."
   ]
  },
  {
   "cell_type": "code",
   "execution_count": 1,
   "metadata": {},
   "outputs": [],
   "source": [
    "%matplotlib widget"
   ]
  },
  {
   "cell_type": "markdown",
   "metadata": {},
   "source": [
    "**Packages**"
   ]
  },
  {
   "cell_type": "code",
   "execution_count": 2,
   "metadata": {},
   "outputs": [],
   "source": [
    "from __future__ import print_function\n",
    "import numpy as np\n",
    "import matplotlib.pyplot as plt\n",
    "from scipy import constants\n",
    "import ipywidgets as widgets\n",
    "from IPython.display import display"
   ]
  },
  {
   "cell_type": "markdown",
   "metadata": {},
   "source": [
    "**Parameters**"
   ]
  },
  {
   "cell_type": "code",
   "execution_count": 3,
   "metadata": {},
   "outputs": [],
   "source": [
    "# incidence angles\n",
    "thetas = np.linspace(20, 75, 100)\n",
    "thetas_rad = np.deg2rad(thetas)"
   ]
  },
  {
   "cell_type": "markdown",
   "metadata": {},
   "source": [
    "### 1. Bare-soil model (Champion 1996)\n",
    "\n",
    "Function of soil moisture and incidence angle. Multiplicative effect in the linear domain, additive effect in the decibel-domain. In a simple linear model, the radar response from bare soil is related to **volumetric soil moisture content** of the first soil centimeters $m_v$ (nowadays this is more often specified as $SMC$ or $SWC$)\n",
    "\n",
    "$$ \\sigma^{0}_{s}(dB) = C_{\\theta} + D * m_v $$\n",
    "\n",
    "where $D$ is the sensitivity of the radar signal to variations in $m_v$. Note that $C_{\\theta}$ is the value of $\\sigma^{0}_{s}$ for a perfectly dry soil (i.e., $m_v=0~g~cm^{-3}$). It is approximated through a simple cosine model\n",
    "\n",
    "$$ C_{\\theta} = C1 + C2 * \\cos(\\theta)^{C3}$$\n",
    "\n",
    "where the \"C-parameters\" account for the dependence of backscatter on **incidence angle**:\n",
    "\n",
    "- C1: $\\sigma^{0}_{s}$ for $\\theta=90°$\n",
    "- C2: $\\sigma^{0}_{s}$ over $\\theta=[0°-60°]$\n",
    "- C3: shape factor of the cosine model (connected to angular decrease)"
   ]
  },
  {
   "cell_type": "code",
   "execution_count": 4,
   "metadata": {},
   "outputs": [],
   "source": [
    "def bare_soil_model(theta, mv):\n",
    "    \"\"\"Returns sigma0_soil in dB given the incidence angle theta and volumetric soil water content mv.\"\"\"\n",
    "    \n",
    "    # Cosine model parameters for 5.3 GHz and HH pol from Champion (1996)\n",
    "    C1, C2, C3 = (-29.2, 27.2, 2.8)\n",
    "    \n",
    "    # Soil moisture sensitivity D\n",
    "    D = 0.28 # 0.32 also feasible\n",
    "\n",
    "    C_theta = C1 + C2 * np.cos(theta) ** C3\n",
    "    return C_theta + D * mv"
   ]
  },
  {
   "cell_type": "code",
   "execution_count": 5,
   "metadata": {},
   "outputs": [
    {
     "data": {
      "application/vnd.jupyter.widget-view+json": {
       "model_id": "4a1c9684ee5542ac9a63e2bdde490714",
       "version_major": 2,
       "version_minor": 0
      },
      "text/plain": [
       "Canvas(toolbar=Toolbar(toolitems=[('Home', 'Reset original view', 'home', 'home'), ('Back', 'Back to previous …"
      ]
     },
     "metadata": {},
     "output_type": "display_data"
    },
    {
     "data": {
      "application/vnd.jupyter.widget-view+json": {
       "model_id": "3e43b971ef644a968d94b972318a21dc",
       "version_major": 2,
       "version_minor": 0
      },
      "text/plain": [
       "interactive(children=(FloatSlider(value=0.0, description='$SMC (g/cm^{3})$', max=40.0, step=1.0), Output()), _…"
      ]
     },
     "metadata": {},
     "output_type": "display_data"
    },
    {
     "data": {
      "text/plain": [
       "<function __main__.update(smc)>"
      ]
     },
     "execution_count": 5,
     "metadata": {},
     "output_type": "execute_result"
    }
   ],
   "source": [
    "# mv: from 0.02 (dry) to 0.3 (wet)\n",
    "smc = 1\n",
    "\n",
    "sigma0_bare_soil = bare_soil_model(thetas_rad, smc)\n",
    "\n",
    "fig, ax = plt.subplots(figsize=(5,5))\n",
    "ax.grid(color='#EEEEEE', linewidth=1, linestyle='solid')\n",
    "\n",
    "line, = ax.plot(thetas, sigma0_bare_soil)\n",
    "\n",
    "ax.set_title('Bare soil model')\n",
    "ax.set_xlabel(r'Incidence angle $\\theta$ (°)')\n",
    "ax.set_ylabel(r'$\\sigma^{0}_{s}$ (dB)')\n",
    "ax.set_ylim(-30, 5)\n",
    "\n",
    "\n",
    "def update(smc):\n",
    "    sigma0_bare_soil = bare_soil_model(thetas_rad, smc)\n",
    "    line.set_ydata(sigma0_bare_soil)\n",
    "\n",
    "smc_slider = widgets.FloatSlider(min=0, max=40, step=1, value=0, description=r'$SMC (g/cm^{3})$')\n",
    "widgets.interact(update, smc=smc_slider)"
   ]
  },
  {
   "cell_type": "markdown",
   "metadata": {},
   "source": [
    "### 2. Cloud model (Attema, Ulaby 1978)\n",
    "\n",
    "**Reference:** *Attema, E. P. W., and Fawwaz T. Ulaby. \"Vegetation modeled as a water cloud.\" Radio science 13.2 (1978): 357-364.*\n",
    "\n",
    "\n",
    "\"Because the microwave dielectric constant of dry vegetative matter is much smaller (by an order of magnitude or more) than the dielectric constant of water, and because a vegetation canopy is usually composed of more than 99% air by volume, it is proposed that the canopy can be modeled as a water cloud whose droplets are held in place by the vegetative matter. Such a model was developed assuming that the canopy \"cloud\" contains identical water droplets randomly distributed within the canopy. By integrating the scattering and attenuation cross-section contributions of N droplets per unit volume over the signal pathlength through the canopy, an expression was derived for the backscattering coefficient as a function of three target parameters: volumetric moisture content of the soil, volumetric water content of the vegetation, and plant height. Regression analysis of the model predictions against scattering data acquired over a period of four months at several angles of incidence (0°-70°) and frequencies (8-18 GHz) for HH and VV polarizations yields correlation coefficients that range from .7 to .99 depending on frequency, polarization, and crop type. The corresponding standard errors of estimate range from 1.1 to 2.6 dB.\"\n",
    "\n",
    "**Model specification**\n",
    "\n",
    "Single scattering albedo: $\\alpha = \\frac{k_s}{k_e}$\n",
    "\n",
    "Two-way attenuation factor: $\\gamma = e^{-\\frac{2\\tau}{\\cos(\\theta)}}$\n",
    "\n",
    "Parameters: $\\theta$, $k_s$, $k_e$, $\\tau$\n",
    "\n",
    "*Individual contributions:*\n",
    "\n",
    "- Volume component $\\sigma^{0}_{v} = \\frac{\\alpha}{2} (1-\\gamma^2)$ \n",
    "- Attenuated soil component: $\\gamma^2 \\sigma^{0}_{soil}$\n",
    "- Soil-volume interaction component: often not included\n",
    "    - complex relationship (difficult to parametrise in a robust way)\n",
    "    - limited contribution to the overall signal (somewhat neglectable second-order effect)"
   ]
  },
  {
   "cell_type": "code",
   "execution_count": 6,
   "metadata": {},
   "outputs": [],
   "source": [
    "def dB2lin(x):\n",
    "    return np.power(10, x/10)\n",
    "\n",
    "def lin2dB(x):\n",
    "    return 10* np.log10(x)\n",
    "\n",
    "def cloud_model(theta, smc, alpha, tau):\n",
    "    \"\"\"\"\"\"\n",
    "    # Two-way attenuation factor\n",
    "    y2 = np.exp(-2*tau/np.cos(theta))\n",
    "    \n",
    "    # compute bare soil contribution and convert back to linear scale\n",
    "    sigma0_soil_dB = bare_soil_model(theta, smc)\n",
    "    sigma0_soil_linear = dB2lin(sigma0_soil_dB)\n",
    "    \n",
    "    # compute canopy backscattering coefficient using the cloud model and convert to dB scale\n",
    "    sigma0_can = ((3*alpha*np.cos(theta))/4 * (1-y2)) + (y2 * sigma0_soil_linear)\n",
    "    \n",
    "    # return total, volume, soil and soil-volume components\n",
    "    return {\"Canopy\": lin2dB(sigma0_can), # total canopy backscatter,\n",
    "            \"Volume\": lin2dB(((3*alpha*np.cos(theta))/4 * (1-y2))), # volume term\n",
    "            \"Soil\": lin2dB(y2 * sigma0_soil_linear)} # soil term"
   ]
  },
  {
   "cell_type": "code",
   "execution_count": 7,
   "metadata": {},
   "outputs": [
    {
     "data": {
      "application/vnd.jupyter.widget-view+json": {
       "model_id": "3a0f1469bbc8430f908f697176c7ec04",
       "version_major": 2,
       "version_minor": 0
      },
      "text/plain": [
       "Canvas(toolbar=Toolbar(toolitems=[('Home', 'Reset original view', 'home', 'home'), ('Back', 'Back to previous …"
      ]
     },
     "metadata": {},
     "output_type": "display_data"
    },
    {
     "data": {
      "application/vnd.jupyter.widget-view+json": {
       "model_id": "91a0c9fde75a43f79145dad4afaca2e5",
       "version_major": 2,
       "version_minor": 0
      },
      "text/plain": [
       "interactive(children=(FloatSlider(value=0.1, description='$\\\\tau$ (Np)', max=1.0, min=0.01, step=0.05), FloatS…"
      ]
     },
     "metadata": {},
     "output_type": "display_data"
    },
    {
     "data": {
      "text/plain": [
       "<function __main__.update(tau, alpha, smc)>"
      ]
     },
     "execution_count": 7,
     "metadata": {},
     "output_type": "execute_result"
    }
   ],
   "source": [
    "# params\n",
    "tau = 0.1\n",
    "alpha = 0.1\n",
    "smc = 1\n",
    "\n",
    "# calculate backscatter curves\n",
    "cloud_model_terms = cloud_model(thetas_rad, smc, alpha, tau) # canopy backscatter\n",
    "\n",
    "# create figure\n",
    "fig, ax = plt.subplots(figsize=(5,5))\n",
    "ax.grid(color='#EEEEEE', linewidth=1, linestyle='solid')\n",
    "\n",
    "# plot lines\n",
    "sigma0_canopy_plot, = ax.plot(thetas, cloud_model_terms['Canopy'], label=r'$\\sigma^{0}_{can}$', linestyle='--')\n",
    "sigma0_volume_plot, = ax.plot(thetas, cloud_model_terms['Volume'], label=r'$\\sigma^{0}_{v}$')\n",
    "sigma0_soil_plot, = ax.plot(thetas, cloud_model_terms['Soil'], label=r'$\\sigma^{0}_{s}$')\n",
    "\n",
    "# labelling\n",
    "ax.set_title('Cloud model')\n",
    "ax.set_xlabel(r'Incidence angle $\\theta$ (°)')\n",
    "ax.set_ylabel(r'$\\sigma^{0}$ (dB)')\n",
    "ax.set_ylim(-40, 10)\n",
    "ax.legend()\n",
    "\n",
    "# interactive plot\n",
    "def update(tau, alpha, smc):\n",
    "    # update model\n",
    "    cloud_model_terms = cloud_model(thetas_rad, smc, alpha, tau) # canopy backscatter\n",
    "    \n",
    "    # update figure\n",
    "    sigma0_canopy_plot.set_ydata(cloud_model_terms['Canopy'])\n",
    "    sigma0_volume_plot.set_ydata(cloud_model_terms['Volume'])\n",
    "    sigma0_soil_plot.set_ydata(cloud_model_terms['Soil'])\n",
    "\n",
    "# sliders\n",
    "tau_slider = widgets.FloatSlider(min=0.01, max=1, step=0.05, value=0.1, description=r'$\\tau$ (Np)')\n",
    "alpha_slider = widgets.FloatSlider(min=0.01, max=1, step=0.05, value=0.1, description=r'$\\alpha$')\n",
    "smc_slider = widgets.FloatSlider(min=0, max=40, step=1, value=0, description=r'$SMC (g(cm^{3})$')\n",
    "\n",
    "widgets.interact(update, tau=tau_slider, alpha=alpha_slider, smc=smc_slider)"
   ]
  }
 ],
 "metadata": {
  "kernelspec": {
   "display_name": "Python 3",
   "language": "python",
   "name": "python3"
  },
  "language_info": {
   "codemirror_mode": {
    "name": "ipython",
    "version": 3
   },
   "file_extension": ".py",
   "mimetype": "text/x-python",
   "name": "python",
   "nbconvert_exporter": "python",
   "pygments_lexer": "ipython3",
   "version": "3.8.6"
  }
 },
 "nbformat": 4,
 "nbformat_minor": 4
}
